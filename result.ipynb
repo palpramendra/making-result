{
 "cells": [
  {
   "cell_type": "code",
   "execution_count": 6,
   "id": "7980a4cc",
   "metadata": {},
   "outputs": [
    {
     "name": "stdout",
     "output_type": "stream",
     "text": [
      "Enter n = 2\n",
      "Enter student name : maya\n",
      "Enter python number : 23\n",
      "Enter java number : 23\n",
      "Enter web number : 23\n",
      "Enter computer number : 43\n",
      "Enter ruby number : 32\n",
      "Enter student name : jerry\n",
      "Enter python number : 67\n",
      "Enter java number : 78\n",
      "Enter web number : 89\n",
      "Enter computer number : 98\n",
      "Enter ruby number : 76\n",
      "name\tpython\tjava\tweb\tcomputer\truby\ttotal\tper\tgrade\n",
      "maya\t23\t23\t23\t43\t32\t144\t28.8\tF\n",
      "jerry\t67\t78\t89\t98\t76\t408\t81.6\tA\n",
      "\n"
     ]
    }
   ],
   "source": [
    "result = str()\n",
    "n = int(input(\"Enter n = \"))\n",
    "for i in range(n):\n",
    "    name = str(input(\"Enter student name : \"))\n",
    "    python = int(input(\"Enter python number : \"))\n",
    "    java = int(input(\"Enter java number : \"))\n",
    "    web = int(input(\"Enter web number : \"))\n",
    "    computer = int(input(\"Enter computer number : \"))\n",
    "    ruby = int(input(\"Enter ruby number : \"))\n",
    "    total = python+java+web+computer+ruby\n",
    "    per = total/5\n",
    "    if per>=80 and per<100:\n",
    "        grade = 'A'\n",
    "    elif per>=60 and per<80:\n",
    "        grade = \"B\"\n",
    "    elif per>=45 and per<60:\n",
    "        grade = \"C\"\n",
    "    elif per>=35 and per<45:\n",
    "        grade = \"D\"\n",
    "    else:\n",
    "        grade = \"F\"\n",
    "    result = result+name+\"\\t\"+str(python)+\"\\t\"+str(java)+\"\\t\"+str(web)+\"\\t\"+str(computer)+\"\\t\"+str(ruby)+\"\\t\"+str(total)+\"\\t\"+str(per)+\"\\t\"+str(grade)+\"\\n\"\n",
    "\n",
    "print('name\\tpython\\tjava\\tweb\\tcomputer\\truby\\ttotal\\tper\\tgrade')\n",
    "print(result)"
   ]
  },
  {
   "cell_type": "code",
   "execution_count": null,
   "id": "375d70e2",
   "metadata": {},
   "outputs": [],
   "source": []
  }
 ],
 "metadata": {
  "kernelspec": {
   "display_name": "Python 3 (ipykernel)",
   "language": "python",
   "name": "python3"
  },
  "language_info": {
   "codemirror_mode": {
    "name": "ipython",
    "version": 3
   },
   "file_extension": ".py",
   "mimetype": "text/x-python",
   "name": "python",
   "nbconvert_exporter": "python",
   "pygments_lexer": "ipython3",
   "version": "3.9.12"
  }
 },
 "nbformat": 4,
 "nbformat_minor": 5
}
