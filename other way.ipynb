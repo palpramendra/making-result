{
 "cells": [
  {
   "cell_type": "code",
   "execution_count": 1,
   "id": "37f7a9cd",
   "metadata": {},
   "outputs": [
    {
     "name": "stdout",
     "output_type": "stream",
     "text": [
      "Enter n = 2\n",
      "Enter student name : maya\n",
      "Enter a nepali mark : 34\n",
      "Enter a science mark : 43\n",
      "Enter a math mark : 34\n",
      "Enter a java mark : 43\n",
      "Enter a python mark : 34\n",
      "Enter student name : preeti\n",
      "Enter a nepali mark : 56\n",
      "Enter a science mark : 67\n",
      "Enter a math mark : 76\n",
      "Enter a java mark : 65\n",
      "Enter a python mark : 56\n",
      "name\tnepali\tscience\tmath\tjava\tpython\ttotal\tper\tgrade\n",
      "maya\t34\t43\t34\t43\t34\t188\t37.6\tF\n",
      "preeti\t56\t67\t76\t65\t56\t320\t64.0\tB\n",
      "\n"
     ]
    }
   ],
   "source": [
    "result = str()\n",
    "n = int(input(\"Enter n = \"))\n",
    "for i in range(n):\n",
    "    name = str(input(\"Enter student name : \"))\n",
    "    nepali = int(input(\"Enter a nepali mark : \"))\n",
    "    science = int(input(\"Enter a science mark : \"))\n",
    "    math = int(input(\"Enter a math mark : \"))\n",
    "    java = int(input(\"Enter a java mark : \"))\n",
    "    python = int(input(\"Enter a python mark : \"))\n",
    "    total = nepali+science+math+java+python\n",
    "    per = total/5\n",
    "    if per>80 or per==80:\n",
    "        grade = \"A\"\n",
    "    elif per>60 or per==60:\n",
    "        grade = \"B\"\n",
    "    elif per>45 or per==45:\n",
    "        grade = \"C\"\n",
    "    else:\n",
    "        grade = \"F\"\n",
    "    result = result + name +\"\\t\" +str(nepali) +\"\\t\"+ str(science) +\"\\t\"+ str(math) +\"\\t\"+ str(java) +\"\\t\"+ str(python) +\"\\t\"+ str(total) +\"\\t\"+ str(per)+\"\\t\"+str(grade)+\"\\n\"\n",
    "\n",
    "print('name\\tnepali\\tscience\\tmath\\tjava\\tpython\\ttotal\\tper\\tgrade')\n",
    "print(result)"
   ]
  },
  {
   "cell_type": "code",
   "execution_count": null,
   "id": "b2c3c65d",
   "metadata": {},
   "outputs": [],
   "source": []
  },
  {
   "cell_type": "code",
   "execution_count": null,
   "id": "3e6b8dc3",
   "metadata": {},
   "outputs": [],
   "source": []
  }
 ],
 "metadata": {
  "kernelspec": {
   "display_name": "Python 3 (ipykernel)",
   "language": "python",
   "name": "python3"
  },
  "language_info": {
   "codemirror_mode": {
    "name": "ipython",
    "version": 3
   },
   "file_extension": ".py",
   "mimetype": "text/x-python",
   "name": "python",
   "nbconvert_exporter": "python",
   "pygments_lexer": "ipython3",
   "version": "3.9.12"
  }
 },
 "nbformat": 4,
 "nbformat_minor": 5
}
